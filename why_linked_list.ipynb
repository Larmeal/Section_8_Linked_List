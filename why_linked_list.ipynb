{
 "cells": [
  {
   "cell_type": "code",
   "execution_count": 50,
   "metadata": {},
   "outputs": [],
   "source": [
    "import numpy as np"
   ]
  },
  {
   "cell_type": "code",
   "execution_count": 51,
   "metadata": {},
   "outputs": [],
   "source": [
    "# Create control list class\n",
    "# This class copy function of Linked list that is one of type of data structure\n",
    "class LinkedList:\n",
    "\n",
    "    def __init__(self, arr):\n",
    "        self.list_ = arr\n",
    "        self.label = {}\n",
    "\n",
    "    # Show the previous, itself number, next number of number that was added \n",
    "    def label_(self, previous, middle, next_):\n",
    "        self.label = {\n",
    "            \"Previous\": previous,\n",
    "            \"Value\": middle,\n",
    "            \"Next\": next_\n",
    "        }\n",
    "        return self.label\n",
    "\n",
    "    # Added number to last position in list\n",
    "    def append(self, endvalue):\n",
    "        self.tail = self.list_.append(endvalue)\n",
    "        self.previous = self.list_[-2]\n",
    "        self.middle = self.list_[-1]\n",
    "        self.next_ = None\n",
    "        self.label_(self.previous, self.middle, self.next_)\n",
    "        return self.label\n",
    "\n",
    "    # Added number to first position in list\n",
    "    def prepend(self, prevalue):\n",
    "        self.tail = self.list_.insert(0, prevalue)\n",
    "        self.previous = None\n",
    "        self.middle = self.list_[0]\n",
    "        self.next_ = self.list_[1]\n",
    "        self.label_(self.previous, self.middle, self.next_)\n",
    "        return self.label\n",
    "\n",
    "    # Added number to position what you when\n",
    "    def insert(self, order, value):\n",
    "        self.list_.insert(order, value)\n",
    "        self.previous = self.list_[order - 1]\n",
    "        self.middle = self.list_[order]\n",
    "        self.next_ = self.list_[order + 1]\n",
    "\n",
    "        if order <= 0:\n",
    "            self.previous = None\n",
    "        elif order >= len(self.list_) - 1:\n",
    "            self.next_ = None\n",
    "        \n",
    "        self.label_(self.previous, self.middle, self.next_)\n",
    "        return self.label\n",
    "\n",
    "    # Deleted number \n",
    "    def remove(self, order):\n",
    "        self.previous_b = self.list_[order - 1]\n",
    "        self.middle_b = self.list_[order]\n",
    "        self.next_b = self.list_[order + 1]\n",
    "\n",
    "        self.list_.pop(order)\n",
    "\n",
    "        self.previous_a = self.list_[order - 1]\n",
    "        self.middle_a = self.list_[order]\n",
    "        self.next_a = self.list_[order + 1]\n",
    "\n",
    "        self.before = self.label_(self.previous_b, self.middle_b, self.next_b)\n",
    "        self.after = self.label_(self.previous_a, self.middle_a, self.next_a)\n",
    "        return f\"{self.before,} \\n{self.after}\""
   ]
  },
  {
   "cell_type": "code",
   "execution_count": 52,
   "metadata": {},
   "outputs": [
    {
     "name": "stdout",
     "output_type": "stream",
     "text": [
      "[9, 6, 9, 0, 19]\n"
     ]
    }
   ],
   "source": [
    "array = np.random.randint(0, 20, 5).tolist()\n",
    "print(array)   "
   ]
  },
  {
   "cell_type": "code",
   "execution_count": 53,
   "metadata": {},
   "outputs": [
    {
     "name": "stdout",
     "output_type": "stream",
     "text": [
      "[9, 6, 9, 0, 19]\n",
      "{'Previous': 19, 'Value': 5, 'Next': None}\n",
      "[9, 6, 9, 0, 19, 5]\n",
      "{'Previous': 5, 'Value': 12, 'Next': None}\n",
      "[9, 6, 9, 0, 19, 5, 12]\n"
     ]
    }
   ],
   "source": [
    "test_1 = LinkedList(array)\n",
    "print(test_1.list_)  \n",
    "print(test_1.append(5))\n",
    "print(test_1.list_)  \n",
    "print(test_1.append(12))\n",
    "print(test_1.list_) "
   ]
  },
  {
   "cell_type": "code",
   "execution_count": 54,
   "metadata": {},
   "outputs": [
    {
     "name": "stdout",
     "output_type": "stream",
     "text": [
      "{'Previous': None, 'Value': 2, 'Next': 9}\n",
      "[2, 9, 6, 9, 0, 19, 5, 12]\n"
     ]
    }
   ],
   "source": [
    "print(test_1.prepend(2))\n",
    "print(test_1.list_) "
   ]
  },
  {
   "cell_type": "code",
   "execution_count": 55,
   "metadata": {},
   "outputs": [
    {
     "name": "stdout",
     "output_type": "stream",
     "text": [
      "{'Previous': 9, 'Value': 4, 'Next': 6}\n",
      "[2, 9, 4, 6, 9, 0, 19, 5, 12]\n"
     ]
    }
   ],
   "source": [
    "print(test_1.insert(2, 4))\n",
    "print(test_1.list_) "
   ]
  },
  {
   "cell_type": "code",
   "execution_count": 57,
   "metadata": {},
   "outputs": [
    {
     "name": "stdout",
     "output_type": "stream",
     "text": [
      "[2, 9, 4, 6, 0, 19, 5, 12]\n",
      "({'Previous': 6, 'Value': 0, 'Next': 19},) \n",
      "{'Previous': 6, 'Value': 19, 'Next': 5}\n",
      "[2, 9, 4, 6, 19, 5, 12]\n"
     ]
    }
   ],
   "source": [
    "print(test_1.list_)\n",
    "print(test_1.remove(4))\n",
    "print(test_1.list_)"
   ]
  },
  {
   "cell_type": "code",
   "execution_count": null,
   "metadata": {},
   "outputs": [],
   "source": []
  }
 ],
 "metadata": {
  "interpreter": {
   "hash": "0dd272924c7cc597c5889018966c2ccb6c9651b4aec44649117dbf66b8c76eee"
  },
  "kernelspec": {
   "display_name": "Python 3.10.2 64-bit",
   "language": "python",
   "name": "python3"
  },
  "language_info": {
   "codemirror_mode": {
    "name": "ipython",
    "version": 3
   },
   "file_extension": ".py",
   "mimetype": "text/x-python",
   "name": "python",
   "nbconvert_exporter": "python",
   "pygments_lexer": "ipython3",
   "version": "3.10.2"
  },
  "orig_nbformat": 4
 },
 "nbformat": 4,
 "nbformat_minor": 2
}
